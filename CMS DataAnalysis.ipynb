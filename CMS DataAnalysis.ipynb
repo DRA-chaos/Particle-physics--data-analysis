{
 "cells": [
  {
   "cell_type": "code",
   "execution_count": 1,
   "metadata": {},
   "outputs": [],
   "source": [
    "import numpy as np\n",
    "import matplotlib.pylab as plt"
   ]
  },
  {
   "cell_type": "code",
   "execution_count": 2,
   "metadata": {},
   "outputs": [
    {
     "name": "stdout",
     "output_type": "stream",
     "text": [
      "Collecting git+https://github.com/mattbellis/h5hep.git\n",
      "  Cloning https://github.com/mattbellis/h5hep.git to c:\\users\\dra\\appdata\\local\\temp\\pip-req-build-rh7ilmuj\n"
     ]
    },
    {
     "name": "stderr",
     "output_type": "stream",
     "text": [
      "  Running command git clone -q https://github.com/mattbellis/h5hep.git 'C:\\Users\\DRA\\AppData\\Local\\Temp\\pip-req-build-rh7ilmuj'\n",
      "  fatal: unable to access 'https://github.com/mattbellis/h5hep.git/': Could not resolve host: github.com\n",
      "ERROR: Command errored out with exit status 128: git clone -q https://github.com/mattbellis/h5hep.git 'C:\\Users\\DRA\\AppData\\Local\\Temp\\pip-req-build-rh7ilmuj' Check the logs for full command output.\n"
     ]
    }
   ],
   "source": [
    "import sys\n",
    "!{sys.executable} -m pip install git+https://github.com/mattbellis/h5hep.git\n"
   ]
  },
  {
   "cell_type": "code",
   "execution_count": 3,
   "metadata": {},
   "outputs": [],
   "source": [
    "import h5hep"
   ]
  },
  {
   "cell_type": "code",
   "execution_count": 4,
   "metadata": {},
   "outputs": [
    {
     "name": "stdout",
     "output_type": "stream",
     "text": [
      "Collecting git+https://github.com/mattbellis/particle_physics_simplified.git\n",
      "  Cloning https://github.com/mattbellis/particle_physics_simplified.git to c:\\users\\dra\\appdata\\local\\temp\\pip-req-build-5mquu5pm\n",
      "Requirement already satisfied (use --upgrade to upgrade): particle-physics-simplified==0.9 from git+https://github.com/mattbellis/particle_physics_simplified.git in c:\\users\\dra\\anaconda3\\lib\\site-packages\n",
      "Requirement already satisfied: numpy in c:\\users\\dra\\anaconda3\\lib\\site-packages (from particle-physics-simplified==0.9) (1.18.5)\n",
      "Requirement already satisfied: h5py in c:\\users\\dra\\anaconda3\\lib\\site-packages (from particle-physics-simplified==0.9) (2.10.0)\n",
      "Requirement already satisfied: h5hep in c:\\users\\dra\\anaconda3\\lib\\site-packages (from particle-physics-simplified==0.9) (0.9)\n",
      "Requirement already satisfied: six in c:\\users\\dra\\anaconda3\\lib\\site-packages (from h5py->particle-physics-simplified==0.9) (1.15.0)\n",
      "Building wheels for collected packages: particle-physics-simplified\n",
      "  Building wheel for particle-physics-simplified (setup.py): started\n",
      "  Building wheel for particle-physics-simplified (setup.py): finished with status 'done'\n",
      "  Created wheel for particle-physics-simplified: filename=particle_physics_simplified-0.9-py3-none-any.whl size=31568 sha256=c5acc9d488e7848850d2c9ebb369a52bf94a9b0e1ae30774d3d5614a7666818d\n",
      "  Stored in directory: C:\\Users\\DRA\\AppData\\Local\\Temp\\pip-ephem-wheel-cache-962b1_56\\wheels\\10\\27\\d0\\4e1011609053a20150b85dd0894a632814cba47d6f6e28d72f\n",
      "Successfully built particle-physics-simplified\n"
     ]
    },
    {
     "name": "stderr",
     "output_type": "stream",
     "text": [
      "  Running command git clone -q https://github.com/mattbellis/particle_physics_simplified.git 'C:\\Users\\DRA\\AppData\\Local\\Temp\\pip-req-build-5mquu5pm'\n"
     ]
    }
   ],
   "source": [
    "!{sys.executable} -m pip install git+https://github.com/mattbellis/particle_physics_simplified.git"
   ]
  },
  {
   "cell_type": "code",
   "execution_count": 5,
   "metadata": {},
   "outputs": [
    {
     "ename": "ModuleNotFoundError",
     "evalue": "No module named 'plotly'",
     "output_type": "error",
     "traceback": [
      "\u001b[1;31m---------------------------------------------------------------------------\u001b[0m",
      "\u001b[1;31mModuleNotFoundError\u001b[0m                       Traceback (most recent call last)",
      "\u001b[1;32m<ipython-input-5-42c50417ddfd>\u001b[0m in \u001b[0;36m<module>\u001b[1;34m\u001b[0m\n\u001b[1;32m----> 1\u001b[1;33m \u001b[1;32mimport\u001b[0m \u001b[0mpps_tools\u001b[0m \u001b[1;32mas\u001b[0m \u001b[0mpps\u001b[0m\u001b[1;33m\u001b[0m\u001b[1;33m\u001b[0m\u001b[0m\n\u001b[0m",
      "\u001b[1;32m~\\anaconda3\\lib\\site-packages\\pps_tools\\__init__.py\u001b[0m in \u001b[0;36m<module>\u001b[1;34m\u001b[0m\n\u001b[0;32m      1\u001b[0m \u001b[1;32mfrom\u001b[0m \u001b[0mpps_tools\u001b[0m\u001b[1;33m.\u001b[0m\u001b[0mread\u001b[0m \u001b[1;32mimport\u001b[0m \u001b[1;33m*\u001b[0m\u001b[1;33m\u001b[0m\u001b[1;33m\u001b[0m\u001b[0m\n\u001b[1;32m----> 2\u001b[1;33m \u001b[1;32mfrom\u001b[0m \u001b[0mpps_tools\u001b[0m\u001b[1;33m.\u001b[0m\u001b[0mvisualize\u001b[0m \u001b[1;32mimport\u001b[0m \u001b[1;33m*\u001b[0m\u001b[1;33m\u001b[0m\u001b[1;33m\u001b[0m\u001b[0m\n\u001b[0m\u001b[0;32m      3\u001b[0m \u001b[1;32mfrom\u001b[0m \u001b[0mpps_tools\u001b[0m\u001b[1;33m.\u001b[0m\u001b[0mdownload\u001b[0m \u001b[1;32mimport\u001b[0m \u001b[1;33m*\u001b[0m\u001b[1;33m\u001b[0m\u001b[1;33m\u001b[0m\u001b[0m\n",
      "\u001b[1;32m~\\anaconda3\\lib\\site-packages\\pps_tools\\visualize.py\u001b[0m in \u001b[0;36m<module>\u001b[1;34m\u001b[0m\n\u001b[0;32m     10\u001b[0m \u001b[1;32mimport\u001b[0m \u001b[0mh5hep\u001b[0m\u001b[1;33m\u001b[0m\u001b[1;33m\u001b[0m\u001b[0m\n\u001b[0;32m     11\u001b[0m \u001b[1;33m\u001b[0m\u001b[0m\n\u001b[1;32m---> 12\u001b[1;33m \u001b[1;32mimport\u001b[0m \u001b[0mplotly\u001b[0m\u001b[1;33m.\u001b[0m\u001b[0mexpress\u001b[0m \u001b[1;32mas\u001b[0m \u001b[0mpx\u001b[0m\u001b[1;33m\u001b[0m\u001b[1;33m\u001b[0m\u001b[0m\n\u001b[0m\u001b[0;32m     13\u001b[0m \u001b[1;33m\u001b[0m\u001b[0m\n\u001b[0;32m     14\u001b[0m \u001b[1;31m################################################################################\u001b[0m\u001b[1;33m\u001b[0m\u001b[1;33m\u001b[0m\u001b[1;33m\u001b[0m\u001b[0m\n",
      "\u001b[1;31mModuleNotFoundError\u001b[0m: No module named 'plotly'"
     ]
    }
   ],
   "source": [
    "import pps_tools as pps"
   ]
  },
  {
   "cell_type": "code",
   "execution_count": 6,
   "metadata": {},
   "outputs": [
    {
     "name": "stdout",
     "output_type": "stream",
     "text": [
      "Collecting plotly\n",
      "  Downloading plotly-4.14.1-py2.py3-none-any.whl (13.2 MB)\n",
      "Requirement already satisfied: six in c:\\users\\dra\\anaconda3\\lib\\site-packages (from plotly) (1.15.0)\n",
      "Collecting retrying>=1.3.3\n",
      "  Downloading retrying-1.3.3.tar.gz (10 kB)\n",
      "Building wheels for collected packages: retrying\n",
      "  Building wheel for retrying (setup.py): started\n",
      "  Building wheel for retrying (setup.py): finished with status 'done'\n",
      "  Created wheel for retrying: filename=retrying-1.3.3-py3-none-any.whl size=11435 sha256=2fe76d901838b4c52bd0f0b712c3e3e3461c1eb11cc7aac1bb45dfb9890459f5\n",
      "  Stored in directory: c:\\users\\dra\\appdata\\local\\pip\\cache\\wheels\\c4\\a7\\48\\0a434133f6d56e878ca511c0e6c38326907c0792f67b476e56\n",
      "Successfully built retrying\n",
      "Installing collected packages: retrying, plotly\n",
      "Successfully installed plotly-4.14.1 retrying-1.3.3\n"
     ]
    }
   ],
   "source": [
    "!{sys.executable} -m pip install plotly"
   ]
  },
  {
   "cell_type": "code",
   "execution_count": 7,
   "metadata": {},
   "outputs": [],
   "source": [
    "import pps_tools as pps"
   ]
  },
  {
   "cell_type": "code",
   "execution_count": 9,
   "metadata": {},
   "outputs": [],
   "source": [
    "#Downloading Data"
   ]
  },
  {
   "cell_type": "code",
   "execution_count": 10,
   "metadata": {},
   "outputs": [],
   "source": [
    "pps.download_from_drive('dimuons_1000_collisions.hdf5')"
   ]
  },
  {
   "cell_type": "markdown",
   "metadata": {},
   "source": [
    "INTERFACING WITH THE DATA"
   ]
  },
  {
   "cell_type": "code",
   "execution_count": 13,
   "metadata": {},
   "outputs": [
    {
     "name": "stdout",
     "output_type": "stream",
     "text": [
      "\n",
      "Building a simplified interface to the events...\n",
      "\n",
      "Building the indices...\n",
      "Built the indices!\n",
      "Data is read in and input file is closed.\n",
      "Reading in event  0\n",
      "1000  collisions\n"
     ]
    }
   ],
   "source": [
    "infile = 'data/dimuons_1000_collisions.hdf5'\n",
    "\n",
    "collisions = pps.get_collisions(infile,experiment='CMS',verbose=False)\n",
    "print(len(collisions), \" collisions\")  # This line is optional, and simply tells you how many events are in the file."
   ]
  },
  {
   "cell_type": "code",
   "execution_count": 14,
   "metadata": {},
   "outputs": [
    {
     "name": "stdout",
     "output_type": "stream",
     "text": [
      "First event:  {'jets': [], 'muons': [{'e': 12.9435, 'px': 5.12579, 'py': -3.98369, 'pz': -11.1973, 'q': -1}, {'e': 11.8636, 'px': 4.78984, 'py': -6.26222, 'pz': -8.86434, 'q': 1}], 'electrons': [], 'photons': [], 'METx': 0.0, 'METy': 0.0}\n",
      "All muons:  [{'e': 12.9435, 'px': 5.12579, 'py': -3.98369, 'pz': -11.1973, 'q': -1}, {'e': 11.8636, 'px': 4.78984, 'py': -6.26222, 'pz': -8.86434, 'q': 1}]\n",
      "First muon:  {'e': 12.9435, 'px': 5.12579, 'py': -3.98369, 'pz': -11.1973, 'q': -1}\n",
      "First muon's energy:  12.9435\n"
     ]
    }
   ],
   "source": [
    "#Collisions\n",
    "second_collision = collisions[1]   # the second event\n",
    "print(\"First event: \",second_collision)\n",
    "all_muons = second_collision['muons']    # all of the jets in the first event\n",
    "print(\"All muons: \",all_muons)\n",
    "first_muon = all_muons[0]    # the first jet in the first event\n",
    "print(\"First muon: \",first_muon)   \n",
    "muon_energy = first_muon['e']      # the energy of the first photon\n",
    "print(\"First muon's energy: \",muon_energy)"
   ]
  },
  {
   "cell_type": "code",
   "execution_count": 16,
   "metadata": {},
   "outputs": [],
   "source": [
    "energies = []\n",
    "\n",
    "for collision in collisions:          # loops over all the events in the file\n",
    "  muons = collision['muons']      # gets the list of all muons in the event\n",
    "  \n",
    "  for muon in muons:           # loops over each muon in the current event\n",
    "    e = muon['e']                # gets the energy of the muon\n",
    "    \n",
    "    energies.append(e)             # puts the energy in a list\n"
   ]
  },
  {
   "cell_type": "code",
   "execution_count": 17,
   "metadata": {},
   "outputs": [
    {
     "data": {
      "image/png": "[encoded data removed]",
      "text/plain": [
       "<Figure size 432x288 with 1 Axes>"
      ]
     },
     "metadata": {
      "needs_background": "light"
     },
     "output_type": "display_data"
    }
   ],
   "source": [
    "plt.hist(energies,bins=50,range=(0,100));"
   ]
  },
  {
   "cell_type": "code",
   "execution_count": 18,
   "metadata": {},
   "outputs": [
    {
     "name": "stdout",
     "output_type": "stream",
     "text": [
      "\n",
      "Loading in the data...\n",
      "\n",
      "Building the indices...\n",
      "Built the indices!\n",
      "Data is read in and input file is closed.\n",
      "# entries:  1000\n"
     ]
    }
   ],
   "source": [
    "infile = 'data/dimuons_1000_collisions.hdf5' \n",
    "\n",
    "alldata = pps.get_all_data(infile,verbose=False)\n",
    "nentries = pps.get_number_of_entries(alldata)\n",
    "\n",
    "print(\"# entries: \",nentries)   # This optional line tells you how many events are in the file\n"
   ]
  },
  {
   "cell_type": "code",
   "execution_count": 19,
   "metadata": {},
   "outputs": [],
   "source": [
    "for entry in range(nentries):      # This range will loop over ALL of the events\n",
    "    collision = pps.get_collision(alldata,entry_number=entry,experiment='CMS')\n",
    "\n",
    "for entry in range(0,int(nentries/2)):     # This range will loop over the first half of the events\n",
    "    collision = pps.get_collision(alldata,entry_number=entry,experiment='CMS')\n",
    "    \n",
    "for entry in range(int(nentries/2),nentries):      # This range will loop over the second half of the events\n",
    "    collision = pps.get_collision(alldata,entry_number=entry,experiment='CMS')"
   ]
  },
  {
   "cell_type": "code",
   "execution_count": 20,
   "metadata": {},
   "outputs": [],
   "source": [
    "energies = []\n",
    "\n",
    "for event in range(0,int(nentries/3)):        # Loops over first 3rd of all events\n",
    "  \n",
    "  collision = pps.get_collision(alldata,entry_number=event,experiment='CMS')    # organizes the data so you can interface with it\n",
    "  muons = collision['muons']         # gets the list of all photons in the current event\n",
    "  \n",
    "  for muon in muons:                 # loops over all photons in the event\n",
    "    e = muon['e']                      # gets the energy of the photon\n",
    "    \n",
    "    energies.append(e)                   # adds the energy to a list"
   ]
  },
  {
   "cell_type": "code",
   "execution_count": 21,
   "metadata": {},
   "outputs": [
    {
     "data": {
      "image/png": "[encoded data removed]",
      "text/plain": [
       "<Figure size 432x288 with 1 Axes>"
      ]
     },
     "metadata": {
      "needs_background": "light"
     },
     "output_type": "display_data"
    }
   ],
   "source": [
    "plt.hist(energies,bins=50,range=(0,100));"
   ]
  },
  {
   "cell_type": "code",
   "execution_count": null,
   "metadata": {},
   "outputs": [],
   "source": []
  }
 ],
 "metadata": {
  "kernelspec": {
   "display_name": "Python 3",
   "language": "python",
   "name": "python3"
  },
  "language_info": {
   "codemirror_mode": {
    "name": "ipython",
    "version": 3
   },
   "file_extension": ".py",
   "mimetype": "text/x-python",
   "name": "python",
   "nbconvert_exporter": "python",
   "pygments_lexer": "ipython3",
   "version": "3.8.3"
  }
 },
 "nbformat": 4,
 "nbformat_minor": 4
}
